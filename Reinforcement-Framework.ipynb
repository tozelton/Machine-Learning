{
 "cells": [
  {
   "cell_type": "code",
   "execution_count": 2,
   "metadata": {},
   "outputs": [],
   "source": [
    "import torch.nn as nn\n",
    "import torch\n",
    "from collections import deque\n",
    "import numpy as np\n",
    "import torch.optim as optim\n",
    "import torch.nn.functional as F\n",
    "import random\n",
    "import pygame"
   ]
  },
  {
   "cell_type": "code",
   "execution_count": null,
   "metadata": {},
   "outputs": [],
   "source": [
    "class Network(nn.Module):\n",
    "    def __init__(self,input_states,output_actions,N):\n",
    "        super().__init__()\n",
    "        self.m1 = nn.Linear(input_states,N)\n",
    "        self.m2 = nn.Linear(N,output_actions)\n",
    "    def forward(self,x):\n",
    "        x = F.relu(self.m1(x))\n",
    "        x = self.m2(x)\n",
    "        return x\n",
    "Q = Network(len(paddle.state),len(action),10)\n",
    "\n",
    "optim = optim.Adam(Q.parameters(),lr=0.001)"
   ]
  },
  {
   "cell_type": "code",
   "execution_count": null,
   "metadata": {},
   "outputs": [],
   "source": [
    "episode_number = 100\n",
    "epsilon = 0.1\n",
    "batch_size = 1000\n",
    "gamma = 0.9\n",
    "for i in range(episode_number):\n",
    "    #state = [paddlex,paddley,paddle_vel,ballx,bally,ball_velx,ball_vely]\n",
    "    initial_state = state #for actual program make random initial state\n",
    "\n",
    "    while True:\n",
    "        if random.uniform(0,1) < epsilon:\n",
    "            action = random.choice(action) #replace with actual possible actions\n",
    "        else:\n",
    "            action = torch.argmax(Q(torch.tensor([initial_state],dtype=torch.float32))).item()\n",
    "\n",
    "        next_state, reward = paddle.get_state(initial_state,action)\n",
    "        memory.append((initial_state,action,reward,next_state))\n",
    "\n",
    "        if next_state == 0: #fill in with terminating case\n",
    "            break\n",
    "        initial_state = next_state\n",
    "\n",
    "    if len(memory) >= batch_size:\n",
    "        batch = random.sample(memory,batch_size)\n",
    "\n",
    "        initial_states = torch.tensor([i[0] for i in batch], dtype=torch.float32)\n",
    "        actions = torch.tensor([i[1] for i in batch], dtype=torch.float32)\n",
    "        rewards = torch.tensor([i[2] for i in batch], dtype=torch.float32)\n",
    "        next_states = torch.tensor([i[3] for i in batch], dtype=torch.float32)\n",
    "\n",
    "        Q_next = torch.max(Q(next_states), dim=1)[0].unsqueeze(1)\n",
    "\n",
    "        # Calculate the target Q-values\n",
    "        target = rewards + gamma * Q_next\n",
    "\n",
    "        # Calculate the loss\n",
    "        Q_values = Q(initial_states).gather(1, actions.long().unsqueeze(1))\n",
    "        loss = nn.MSELoss()(Q_values, target)\n",
    "\n",
    "        # Backpropagate the error and optimize the Q-network\n",
    "        optim.zero_grad()\n",
    "        loss.backward()\n",
    "        optim.step()\n",
    "\n",
    "\n"
   ]
  }
 ],
 "metadata": {
  "kernelspec": {
   "display_name": "Python 3",
   "language": "python",
   "name": "python3"
  },
  "language_info": {
   "codemirror_mode": {
    "name": "ipython",
    "version": 3
   },
   "file_extension": ".py",
   "mimetype": "text/x-python",
   "name": "python",
   "nbconvert_exporter": "python",
   "pygments_lexer": "ipython3",
   "version": "3.9.0"
  },
  "orig_nbformat": 4,
  "vscode": {
   "interpreter": {
    "hash": "081af3024f16a256c5b6c8c49e7d6c68935d0cb335782e21a8d7e5584a02a432"
   }
  }
 },
 "nbformat": 4,
 "nbformat_minor": 2
}
