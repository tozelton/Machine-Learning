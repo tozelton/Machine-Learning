{
 "cells": [
  {
   "cell_type": "code",
   "execution_count": 92,
   "metadata": {},
   "outputs": [],
   "source": [
    "import torch\n",
    "import torch.nn as nn\n",
    "from torch.optim import SGD\n",
    "from torch.utils.data import Dataset, DataLoader,Subset\n",
    "import numpy as np\n",
    "import matplotlib.pyplot as plt\n",
    "import numba\n",
    "import sys\n",
    "np.set_printoptions(threshold=sys.maxsize,linewidth=1000,suppress=True)"
   ]
  },
  {
   "attachments": {},
   "cell_type": "markdown",
   "metadata": {},
   "source": [
    "#### __The following code block simulates heat diffusion in 1 dimension__\n",
    "\n",
    "This could be a rod for example. This is done using the finite difference method to solve the partial differential equation."
   ]
  },
  {
   "cell_type": "code",
   "execution_count": 93,
   "metadata": {},
   "outputs": [],
   "source": [
    "dt = 0.001\n",
    "dx = 0.1\n",
    "L = 10\n",
    "t_end = 50\n",
    "th = 100\n",
    "time = np.arange(0,t_end,dt)\n",
    "heat_map = np.zeros(int(L/dx)+1)\n",
    "heat_map[0] = th\n",
    "\n",
    "\n",
    "@numba.jit(nopython=True,nogil=True)\n",
    "def heat_diffusion(a,initial_temp):\n",
    "    snapshots = np.zeros((time.shape[0],int(L/dx)+1))\n",
    "    snapshots[0] = initial_temp\n",
    "    current_heat_map = initial_temp\n",
    "    for t in range(time.shape[0]-1):\n",
    "        for x in range(1,heat_map.shape[0]-1):\n",
    "            current_heat_map[x] = ((a*dt)/dx**2)*(current_heat_map[x+1]-2*current_heat_map[x]+current_heat_map[x-1]) + current_heat_map[x]\n",
    "        snapshots[t+1] = current_heat_map\n",
    "    return snapshots\n",
    "snaps = heat_diffusion(0.5,heat_map)\n"
   ]
  },
  {
   "attachments": {},
   "cell_type": "markdown",
   "metadata": {},
   "source": [
    "Next, we define a function create_x_values() in order to put the parameters of T (temperature) into the correct format.\n",
    "That format is the following\n",
    "<br><br>\n",
    "$[[x_1,t_1],[x_1,t_2],[x_1,t_3]...[x_1,t_n]...[x_2,t_n]...]$\n",
    "<br><br>\n",
    "That is, the temperature is determined by where the point is in space and time"
   ]
  },
  {
   "cell_type": "code",
   "execution_count": 94,
   "metadata": {},
   "outputs": [],
   "source": [
    "#define function to create x values in correct format and create dataset class\n",
    "def create_x_values():\n",
    "    x_values = np.arange(dx,L,dx)\n",
    "    repeat_array = np.repeat(x_values,time.shape[0])\n",
    "    time_repeat = np.concatenate([time]*x_values.shape[0],axis=0)\n",
    "\n",
    "    x = np.zeros((time.shape[0]*x_values.shape[0],2))\n",
    "    x[:,0] = repeat_array\n",
    "    x[:,1] = time_repeat\n",
    "    return x\n",
    "class HeatDataset(Dataset):\n",
    "    def __init__(self, data):\n",
    "        data = data[:,1:-1].transpose().reshape(1,data[:,1:-1].size).ravel()\n",
    "        self.x,self.y = torch.tensor(create_x_values(),dtype=torch.float),torch.tensor(data,dtype=torch.float)\n",
    "        self.x[:,0],self.x[:,1] = self.x[:,0]/L,self.x[:,1]/t_end\n",
    "\n",
    "    def __len__(self): \n",
    "        return self.x.shape[0]\n",
    "    def __getitem__(self, idx): \n",
    "        return self.x[idx], self.y[idx]"
   ]
  },
  {
   "attachments": {},
   "cell_type": "markdown",
   "metadata": {},
   "source": [
    "Then, we create a dataset class, from which we split into training and test data."
   ]
  },
  {
   "cell_type": "code",
   "execution_count": 95,
   "metadata": {},
   "outputs": [],
   "source": [
    "dataset = HeatDataset(snaps)\n",
    "N = len(dataset)\n",
    "\n",
    "\n",
    "indices = np.random.permutation(np.arange(N))\n",
    "\n",
    "train_idx = indices[:int(0.7*N)]\n",
    "test_idx = indices[int(0.7*N):]\n",
    "\n",
    "train_data = Subset(dataset,train_idx)\n",
    "test_data = Subset(dataset,test_idx)\n",
    "\n",
    "train_dl = DataLoader(train_data, batch_size=64,shuffle=True)"
   ]
  },
  {
   "attachments": {},
   "cell_type": "markdown",
   "metadata": {},
   "source": [
    "Now, we create a custom nueral network in order to tune parameters for the ML model to replicate heat diffusion as closely as possible."
   ]
  },
  {
   "cell_type": "code",
   "execution_count": 96,
   "metadata": {},
   "outputs": [],
   "source": [
    "#basic outline of a machine learning model, custom neural net class with forward function and a train model function which operates on 'f'\n",
    "# and changes it weights and then calling f(x) is the same as f.forward(x)\n",
    "class NueralNetwork(nn.Module):\n",
    "    def __init__(self):\n",
    "        super().__init__()\n",
    "        self.Matrix1 = nn.Linear(2,80)\n",
    "        self.Matrix2 = nn.Linear(80,80)\n",
    "        self.Matrix3 = nn.Linear(80,1)\n",
    "        self.R = nn.ReLU()\n",
    "    def forward(self,x):\n",
    "        x = self.R(self.Matrix1(x))\n",
    "        x = self.R(self.Matrix2(x))\n",
    "        x = self.Matrix3(x)\n",
    "        return x.squeeze()\n",
    "\n",
    "\n",
    "def train_model(train_dl,f, n_epochs):\n",
    "    optimizer = SGD(f.parameters(), lr=0.001)\n",
    "    Loss = nn.MSELoss()\n",
    "\n",
    "    losses_list = []\n",
    "    for epoch in range(n_epochs):\n",
    "        for x,y in train_dl:\n",
    "            optimizer.zero_grad()\n",
    "            loss_value = Loss(f(x), y)\n",
    "            loss_value.backward()\n",
    "            optimizer.step()\n",
    "            losses_list.append(loss_value.item())\n",
    "    return losses_list"
   ]
  },
  {
   "attachments": {},
   "cell_type": "markdown",
   "metadata": {},
   "source": [
    "The neural network class is called and the model is trained a certain number of epochs."
   ]
  },
  {
   "cell_type": "code",
   "execution_count": 97,
   "metadata": {},
   "outputs": [],
   "source": [
    "f = NueralNetwork()\n",
    "n_epochs = 1\n",
    "losses = train_model(train_dl,f,n_epochs)"
   ]
  },
  {
   "attachments": {},
   "cell_type": "markdown",
   "metadata": {},
   "source": [
    "Afterwards, the losses vs epoch graph is plotted to analyze how well the model did."
   ]
  },
  {
   "cell_type": "code",
   "execution_count": 98,
   "metadata": {},
   "outputs": [
    {
     "data": {
      "image/png": "[encoded data removed]",
      "text/plain": [
       "<Figure size 432x288 with 1 Axes>"
      ]
     },
     "metadata": {
      "needs_background": "light"
     },
     "output_type": "display_data"
    }
   ],
   "source": [
    "plt.plot(np.linspace(0,n_epochs,len(losses)),losses)\n",
    "plt.show()"
   ]
  },
  {
   "attachments": {},
   "cell_type": "markdown",
   "metadata": {},
   "source": [
    "The model is then tested on the test data, and the mean difference between the simulated data and the predicted data is shown for analyzing performance."
   ]
  },
  {
   "cell_type": "code",
   "execution_count": 99,
   "metadata": {},
   "outputs": [
    {
     "name": "stdout",
     "output_type": "stream",
     "text": [
      "0.42571217\n"
     ]
    }
   ],
   "source": [
    "\n",
    "x,y = test_data[:]\n",
    "\n",
    "np.mean(np.abs((y-f(x)).detach().numpy()))\n"
   ]
  },
  {
   "attachments": {},
   "cell_type": "markdown",
   "metadata": {},
   "source": [
    "Lastly, the simulated vs. predicted temperature profile is shown at certain time points to visualize the effectiveness of the ML model. Blue is the model and orange is the simulated data."
   ]
  },
  {
   "cell_type": "code",
   "execution_count": 110,
   "metadata": {},
   "outputs": [
    {
     "data": {
      "image/png": "[encoded data removed]",
      "text/plain": [
       "<Figure size 432x288 with 1 Axes>"
      ]
     },
     "metadata": {
      "needs_background": "light"
     },
     "output_type": "display_data"
    }
   ],
   "source": [
    "t_plot = 25\n",
    "t = t_plot/t_end\n",
    "snapshot = []\n",
    "\n",
    "for x in np.arange(dx,L,dx):\n",
    "    snapshot.append(f(torch.tensor([x/L,t],dtype=torch.float)).detach().numpy())\n",
    "\n",
    "plt.plot(np.arange(dx,L,dx),snapshot)\n",
    "plt.plot(np.arange(0,L+dx,dx),snaps[int(t_plot/dt)])\n",
    "plt.show()"
   ]
  }
 ],
 "metadata": {
  "kernelspec": {
   "display_name": "Python 3",
   "language": "python",
   "name": "python3"
  },
  "language_info": {
   "codemirror_mode": {
    "name": "ipython",
    "version": 3
   },
   "file_extension": ".py",
   "mimetype": "text/x-python",
   "name": "python",
   "nbconvert_exporter": "python",
   "pygments_lexer": "ipython3",
   "version": "3.9.0"
  },
  "orig_nbformat": 4,
  "vscode": {
   "interpreter": {
    "hash": "081af3024f16a256c5b6c8c49e7d6c68935d0cb335782e21a8d7e5584a02a432"
   }
  }
 },
 "nbformat": 4,
 "nbformat_minor": 2
}
